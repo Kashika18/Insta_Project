{
  "nbformat": 4,
  "nbformat_minor": 0,
  "metadata": {
    "colab": {
      "name": "Insta_Project.ipynb",
      "provenance": [],
      "collapsed_sections": [],
      "authorship_tag": "ABX9TyOuqRfnx+05F85Kop6xlKrJ",
      "include_colab_link": true
    },
    "kernelspec": {
      "name": "python3",
      "display_name": "Python 3"
    },
    "language_info": {
      "name": "python"
    }
  },
  "cells": [
    {
      "cell_type": "markdown",
      "metadata": {
        "id": "view-in-github",
        "colab_type": "text"
      },
      "source": [
        "<a href=\"https://colab.research.google.com/github/Kashika18/Insta_Project/blob/main/Insta_Project.ipynb\" target=\"_parent\"><img src=\"https://colab.research.google.com/assets/colab-badge.svg\" alt=\"Open In Colab\"/></a>"
      ]
    },
    {
      "cell_type": "code",
      "metadata": {
        "id": "Q80MpVmoB6KH"
      },
      "source": [
        "import numpy as np\n",
        "import pandas as pd\n",
        "import matplotlib.pyplot as plt\n",
        "import seaborn as sns"
      ],
      "execution_count": 16,
      "outputs": []
    },
    {
      "cell_type": "markdown",
      "metadata": {
        "id": "dnePv9zLfv-0"
      },
      "source": [
        "# Reading Data"
      ]
    },
    {
      "cell_type": "code",
      "metadata": {
        "id": "0SEmRnMuCb2n"
      },
      "source": [
        "train = pd.read_csv('train.csv')"
      ],
      "execution_count": 17,
      "outputs": []
    },
    {
      "cell_type": "code",
      "metadata": {
        "id": "6PvcfYiHD-pz"
      },
      "source": [
        "insta = pd.DataFrame(train)"
      ],
      "execution_count": 18,
      "outputs": []
    },
    {
      "cell_type": "code",
      "metadata": {
        "colab": {
          "base_uri": "https://localhost:8080/",
          "height": 212
        },
        "id": "-svuZ14mHk3s",
        "outputId": "736ae0a4-6614-4912-e7c6-8326d001446e"
      },
      "source": [
        "insta.head()"
      ],
      "execution_count": 19,
      "outputs": [
        {
          "output_type": "execute_result",
          "data": {
            "text/html": [
              "<div>\n",
              "<style scoped>\n",
              "    .dataframe tbody tr th:only-of-type {\n",
              "        vertical-align: middle;\n",
              "    }\n",
              "\n",
              "    .dataframe tbody tr th {\n",
              "        vertical-align: top;\n",
              "    }\n",
              "\n",
              "    .dataframe thead th {\n",
              "        text-align: right;\n",
              "    }\n",
              "</style>\n",
              "<table border=\"1\" class=\"dataframe\">\n",
              "  <thead>\n",
              "    <tr style=\"text-align: right;\">\n",
              "      <th></th>\n",
              "      <th>profile pic</th>\n",
              "      <th>nums/length username</th>\n",
              "      <th>fullname words</th>\n",
              "      <th>nums/length fullname</th>\n",
              "      <th>name==username</th>\n",
              "      <th>description length</th>\n",
              "      <th>external URL</th>\n",
              "      <th>private</th>\n",
              "      <th>#posts</th>\n",
              "      <th>#followers</th>\n",
              "      <th>#follows</th>\n",
              "      <th>fake</th>\n",
              "    </tr>\n",
              "  </thead>\n",
              "  <tbody>\n",
              "    <tr>\n",
              "      <th>0</th>\n",
              "      <td>1</td>\n",
              "      <td>0.27</td>\n",
              "      <td>0</td>\n",
              "      <td>0.0</td>\n",
              "      <td>0</td>\n",
              "      <td>53</td>\n",
              "      <td>0</td>\n",
              "      <td>0</td>\n",
              "      <td>32</td>\n",
              "      <td>1000</td>\n",
              "      <td>955</td>\n",
              "      <td>0</td>\n",
              "    </tr>\n",
              "    <tr>\n",
              "      <th>1</th>\n",
              "      <td>1</td>\n",
              "      <td>0.00</td>\n",
              "      <td>2</td>\n",
              "      <td>0.0</td>\n",
              "      <td>0</td>\n",
              "      <td>44</td>\n",
              "      <td>0</td>\n",
              "      <td>0</td>\n",
              "      <td>286</td>\n",
              "      <td>2740</td>\n",
              "      <td>533</td>\n",
              "      <td>0</td>\n",
              "    </tr>\n",
              "    <tr>\n",
              "      <th>2</th>\n",
              "      <td>1</td>\n",
              "      <td>0.10</td>\n",
              "      <td>2</td>\n",
              "      <td>0.0</td>\n",
              "      <td>0</td>\n",
              "      <td>0</td>\n",
              "      <td>0</td>\n",
              "      <td>1</td>\n",
              "      <td>13</td>\n",
              "      <td>159</td>\n",
              "      <td>98</td>\n",
              "      <td>0</td>\n",
              "    </tr>\n",
              "    <tr>\n",
              "      <th>3</th>\n",
              "      <td>1</td>\n",
              "      <td>0.00</td>\n",
              "      <td>1</td>\n",
              "      <td>0.0</td>\n",
              "      <td>0</td>\n",
              "      <td>82</td>\n",
              "      <td>0</td>\n",
              "      <td>0</td>\n",
              "      <td>679</td>\n",
              "      <td>414</td>\n",
              "      <td>651</td>\n",
              "      <td>0</td>\n",
              "    </tr>\n",
              "    <tr>\n",
              "      <th>4</th>\n",
              "      <td>1</td>\n",
              "      <td>0.00</td>\n",
              "      <td>2</td>\n",
              "      <td>0.0</td>\n",
              "      <td>0</td>\n",
              "      <td>0</td>\n",
              "      <td>0</td>\n",
              "      <td>1</td>\n",
              "      <td>6</td>\n",
              "      <td>151</td>\n",
              "      <td>126</td>\n",
              "      <td>0</td>\n",
              "    </tr>\n",
              "  </tbody>\n",
              "</table>\n",
              "</div>"
            ],
            "text/plain": [
              "   profile pic  nums/length username  ...  #follows  fake\n",
              "0            1                  0.27  ...       955     0\n",
              "1            1                  0.00  ...       533     0\n",
              "2            1                  0.10  ...        98     0\n",
              "3            1                  0.00  ...       651     0\n",
              "4            1                  0.00  ...       126     0\n",
              "\n",
              "[5 rows x 12 columns]"
            ]
          },
          "metadata": {
            "tags": []
          },
          "execution_count": 19
        }
      ]
    },
    {
      "cell_type": "code",
      "metadata": {
        "colab": {
          "base_uri": "https://localhost:8080/"
        },
        "id": "MDEsBcskSjgu",
        "outputId": "0561a12e-1b71-4361-a66f-73b8de3fe3b8"
      },
      "source": [
        "insta.info"
      ],
      "execution_count": 20,
      "outputs": [
        {
          "output_type": "execute_result",
          "data": {
            "text/plain": [
              "<bound method DataFrame.info of      profile pic  nums/length username  ...  #follows  fake\n",
              "0              1                  0.27  ...       955     0\n",
              "1              1                  0.00  ...       533     0\n",
              "2              1                  0.10  ...        98     0\n",
              "3              1                  0.00  ...       651     0\n",
              "4              1                  0.00  ...       126     0\n",
              "..           ...                   ...  ...       ...   ...\n",
              "571            1                  0.55  ...       596     1\n",
              "572            1                  0.38  ...        75     1\n",
              "573            1                  0.57  ...       339     1\n",
              "574            1                  0.57  ...        73     1\n",
              "575            1                  0.27  ...       487     1\n",
              "\n",
              "[576 rows x 12 columns]>"
            ]
          },
          "metadata": {
            "tags": []
          },
          "execution_count": 20
        }
      ]
    },
    {
      "cell_type": "markdown",
      "metadata": {
        "id": "HYAhoyaaf2E3"
      },
      "source": [
        "# Analysing Data"
      ]
    },
    {
      "cell_type": "code",
      "metadata": {
        "id": "dpQaekvcKPXC"
      },
      "source": [
        "insta['pp'] = insta['profile pic'][insta['profile pic']==0]"
      ],
      "execution_count": 21,
      "outputs": []
    },
    {
      "cell_type": "code",
      "metadata": {
        "id": "JBHqht3SNDsD"
      },
      "source": [
        "maximum_followers=insta.groupby(['pp'])['#followers'].max()"
      ],
      "execution_count": 22,
      "outputs": []
    },
    {
      "cell_type": "code",
      "metadata": {
        "colab": {
          "base_uri": "https://localhost:8080/"
        },
        "id": "LAGef2QXQ8qc",
        "outputId": "7577cb86-c7c2-4c3b-b7e3-d82186878726"
      },
      "source": [
        "#answer 1\n",
        "print(maximum_followers)"
      ],
      "execution_count": 23,
      "outputs": [
        {
          "output_type": "stream",
          "text": [
            "pp\n",
            "0.0    3033\n",
            "Name: #followers, dtype: int64\n"
          ],
          "name": "stdout"
        }
      ]
    },
    {
      "cell_type": "markdown",
      "metadata": {
        "id": "SgtY_5r_fHLb"
      },
      "source": [
        "\n",
        "The maximum no. of followers possessed by a user belonging to the group of\n",
        "users with no profile picture are **3033**"
      ]
    },
    {
      "cell_type": "code",
      "metadata": {
        "id": "TX_uRU7T0Q5v"
      },
      "source": [
        "no_dp= insta.groupby(['profile pic']).get_group(0)"
      ],
      "execution_count": 61,
      "outputs": []
    },
    {
      "cell_type": "code",
      "metadata": {
        "id": "WcEA9eApxWQN"
      },
      "source": [
        "no_posts=no_dp.groupby(['#posts']).get_group(0)\n"
      ],
      "execution_count": 63,
      "outputs": []
    },
    {
      "cell_type": "code",
      "metadata": {
        "id": "Sv3qAg3E0sAQ"
      },
      "source": [
        "no_bio=no_posts.groupby(['description length']).get_group(0)"
      ],
      "execution_count": 64,
      "outputs": []
    },
    {
      "cell_type": "code",
      "metadata": {
        "colab": {
          "base_uri": "https://localhost:8080/"
        },
        "id": "_uvQgdDw1AKA",
        "outputId": "36e1c2be-7fe0-42d6-aa8e-bfeb0ef2589a"
      },
      "source": [
        "#Total number of dead accounts\n",
        "no_bio.shape[0]"
      ],
      "execution_count": 68,
      "outputs": [
        {
          "output_type": "execute_result",
          "data": {
            "text/plain": [
              "123"
            ]
          },
          "metadata": {
            "tags": []
          },
          "execution_count": 68
        }
      ]
    },
    {
      "cell_type": "markdown",
      "metadata": {
        "id": "71v0EoJTgeDj"
      },
      "source": [
        "Dead accounts are characterized by a lack of substantial activity on the platform,\n",
        "primarily concerning the accounts with no profile picture, empty bio and 0 posts. \n",
        "\n",
        "**123 dead accounts exist.**"
      ]
    },
    {
      "cell_type": "code",
      "metadata": {
        "id": "uOIVZ92QYIgC"
      },
      "source": [
        "#finding average description length\n",
        "avg=insta['description length'].mean()"
      ],
      "execution_count": 29,
      "outputs": []
    },
    {
      "cell_type": "code",
      "metadata": {
        "colab": {
          "base_uri": "https://localhost:8080/"
        },
        "id": "J6Ul-2fRhCjU",
        "outputId": "c66602cd-5535-4ca5-86e4-c96ecbc87077"
      },
      "source": [
        "print(avg)"
      ],
      "execution_count": 88,
      "outputs": [
        {
          "output_type": "stream",
          "text": [
            "22.62326388888889\n"
          ],
          "name": "stdout"
        }
      ]
    },
    {
      "cell_type": "code",
      "metadata": {
        "id": "G2uX-psbWzGz"
      },
      "source": [
        "insta['express']=['very expressive' if insta['description length'][i]>avg else 'less expressive' for i in insta.index]"
      ],
      "execution_count": 30,
      "outputs": []
    },
    {
      "cell_type": "markdown",
      "metadata": {
        "id": "dfUZ1HTZg6gc"
      },
      "source": [
        "An expressive person can is the user whose description_length exceeds\n",
        "the average."
      ]
    },
    {
      "cell_type": "code",
      "metadata": {
        "id": "r01kC6oxY1OY",
        "colab": {
          "base_uri": "https://localhost:8080/"
        },
        "outputId": "e5b40662-35f1-4fd5-8df5-c3d9a2ff2459"
      },
      "source": [
        "\n",
        "print(insta)"
      ],
      "execution_count": 31,
      "outputs": [
        {
          "output_type": "stream",
          "text": [
            "     profile pic  nums/length username  ...  posts          express\n",
            "0              1                  0.27  ...    NaN  very expressive\n",
            "1              1                  0.00  ...    NaN  very expressive\n",
            "2              1                  0.10  ...    NaN  less expressive\n",
            "3              1                  0.00  ...    NaN  very expressive\n",
            "4              1                  0.00  ...    NaN  less expressive\n",
            "..           ...                   ...  ...    ...              ...\n",
            "571            1                  0.55  ...    NaN  less expressive\n",
            "572            1                  0.38  ...    NaN  less expressive\n",
            "573            1                  0.57  ...    NaN  less expressive\n",
            "574            1                  0.57  ...    0.0  less expressive\n",
            "575            1                  0.27  ...    NaN  less expressive\n",
            "\n",
            "[576 rows x 16 columns]\n"
          ],
          "name": "stdout"
        }
      ]
    },
    {
      "cell_type": "code",
      "metadata": {
        "id": "7Jx2TqbTZElX"
      },
      "source": [
        "#ans4\n",
        "max_followers=insta.groupby(['posts'])['#followers'].max()"
      ],
      "execution_count": 60,
      "outputs": []
    },
    {
      "cell_type": "code",
      "metadata": {
        "colab": {
          "base_uri": "https://localhost:8080/"
        },
        "id": "RYo5QwyDZswG",
        "outputId": "26ffcf1e-19c8-49d1-d5cf-7c97916aaedd"
      },
      "source": [
        "print(max_followers)"
      ],
      "execution_count": 61,
      "outputs": [
        {
          "output_type": "stream",
          "text": [
            "posts\n",
            "0.0    3033\n",
            "Name: #followers, dtype: int64\n"
          ],
          "name": "stdout"
        }
      ]
    },
    {
      "cell_type": "markdown",
      "metadata": {
        "id": "KPGL38TQZlfu"
      },
      "source": [
        "The maximum no. of followers possessed by a user among those who have 0\n",
        "posts on their respective accounts are 3033"
      ]
    },
    {
      "cell_type": "code",
      "metadata": {
        "id": "Q95smTNHb76M"
      },
      "source": [
        "mx=insta['#follows'].max()"
      ],
      "execution_count": 77,
      "outputs": []
    },
    {
      "cell_type": "code",
      "metadata": {
        "colab": {
          "base_uri": "https://localhost:8080/"
        },
        "id": "pjPCIS03cD4-",
        "outputId": "1b25bf92-e980-4b39-cb64-a5c773c274cd"
      },
      "source": [
        "print(mx)"
      ],
      "execution_count": 76,
      "outputs": [
        {
          "output_type": "stream",
          "text": [
            "7500\n"
          ],
          "name": "stdout"
        }
      ]
    },
    {
      "cell_type": "markdown",
      "metadata": {
        "id": "MxwlPfs5doxj"
      },
      "source": [
        "The number of followers of the user with maximum number of following = 7500"
      ]
    },
    {
      "cell_type": "code",
      "metadata": {
        "id": "RoIUFj_g1CHg"
      },
      "source": [
        "data= pd.read_csv(\"train.csv\", index_col=\"#follows\")"
      ],
      "execution_count": 103,
      "outputs": []
    },
    {
      "cell_type": "code",
      "metadata": {
        "id": "GXumB5AG1Vjw"
      },
      "source": [
        "first= data.loc[[7500]]"
      ],
      "execution_count": 105,
      "outputs": []
    },
    {
      "cell_type": "code",
      "metadata": {
        "colab": {
          "base_uri": "https://localhost:8080/"
        },
        "id": "IgHNUCh-2ABX",
        "outputId": "664b7a43-5f7c-40d8-fbb9-d5c6e3b2de2d"
      },
      "source": [
        "print(first)"
      ],
      "execution_count": 106,
      "outputs": [
        {
          "output_type": "stream",
          "text": [
            "          profile pic  nums/length username  ...  #followers  fake\n",
            "#follows                                     ...                  \n",
            "7500                1                   0.0  ...        1383     0\n",
            "7500                1                   0.0  ...        1775     0\n",
            "\n",
            "[2 rows x 11 columns]\n"
          ],
          "name": "stdout"
        }
      ]
    },
    {
      "cell_type": "code",
      "metadata": {
        "id": "Ea1yaxuFx2k9"
      },
      "source": [
        ""
      ],
      "execution_count": null,
      "outputs": []
    },
    {
      "cell_type": "markdown",
      "metadata": {
        "id": "w2xTWkzsbEDu"
      },
      "source": [
        "The number of followers of the user with maximum number of following = 1775 and 1383"
      ]
    },
    {
      "cell_type": "code",
      "metadata": {
        "id": "3zRzv1dvX2n1"
      },
      "source": [
        "ratio= 1383/7500\n",
        "ratio2=1775/7500"
      ],
      "execution_count": 107,
      "outputs": []
    },
    {
      "cell_type": "code",
      "metadata": {
        "colab": {
          "base_uri": "https://localhost:8080/"
        },
        "id": "891yL97TSTWg",
        "outputId": "26fdd4a1-04d7-4f5f-80ee-e3f7929bec61"
      },
      "source": [
        "print(ratio)\n",
        "ratio2"
      ],
      "execution_count": 108,
      "outputs": [
        {
          "output_type": "stream",
          "text": [
            "0.1844\n"
          ],
          "name": "stdout"
        },
        {
          "output_type": "execute_result",
          "data": {
            "text/plain": [
              "0.23666666666666666"
            ]
          },
          "metadata": {
            "tags": []
          },
          "execution_count": 108
        }
      ]
    },
    {
      "cell_type": "markdown",
      "metadata": {
        "id": "5nrm5S95ZHG3"
      },
      "source": [
        "The ratio of number of followers (#followers) to number of following (#follows) for the user with the maximum number of following = 0.23666666666666666 and 0.1844"
      ]
    }
  ]
}